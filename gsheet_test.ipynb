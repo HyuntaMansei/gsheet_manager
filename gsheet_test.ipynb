{
 "cells": [
  {
   "cell_type": "code",
   "execution_count": 6,
   "metadata": {},
   "outputs": [],
   "source": [
    "import pandas as pd\n",
    "import numpy as np\n",
    "import importlib\n",
    "import gsheet_manager"
   ]
  },
  {
   "cell_type": "code",
   "execution_count": 107,
   "metadata": {},
   "outputs": [
    {
     "name": "stdout",
     "output_type": "stream",
     "text": [
      "path: c:\\Users\\jchoi\\Coding\\python\\board-for-ffbe-a9d6e94e060c.json\n",
      "<Spreadsheet '길드전 순위(9월)' id:1rSAyiMHyqeD-odGbJxF4TUlUZEMQp_so0Z6_2D6L6Hk>\n"
     ]
    }
   ],
   "source": [
    "importlib.reload(gsheet_manager)\n",
    "\n",
    "fm = gsheet_manager.sheet_manager_for_ffbe()\n",
    "fm.open_sheets()"
   ]
  },
  {
   "cell_type": "code",
   "execution_count": null,
   "metadata": {},
   "outputs": [],
   "source": [
    "from datetime import datetime\n",
    "import datetime\n",
    "\n",
    "def write_score():\n",
    "    score_sheet_name = 'test'\n",
    "    fm.fetch_score_as_df()\n",
    "    defender_board_df = fm.fetch_sheet_as_df('defender_board')\n",
    "    defender_board_df.set_index(0, drop=True, inplace=True)\n",
    "    defender_board_df.columns = defender_board_df.iloc[0]\n",
    "    defender_board_df = defender_board_df.iloc[1:]\n",
    "    defender_board_df.index.name = \"이름\"\n",
    "    defender_board_df['점수']\n",
    "    fm.score_df[datetime.date.today()] = defender_board_df['점수']\n",
    "    df_to_write = fm.gm.data_preprocessing(fm.score_df).reset_index()\n",
    "    print(df_to_write)\n",
    "    # fm.sheets['test'].insert_rows([df_to_write.columns.tolist()] + df_to_write.values.tolist())\n",
    "    # fm.sheets['test'].update('score_field', [df_to_write.columns.tolist()] + df_to_write.values.tolist())\n",
    "    # fm.sheets['test'].update('score_field', df_to_write.values.tolist())\n",
    "write_score()"
   ]
  },
  {
   "cell_type": "code",
   "execution_count": 115,
   "metadata": {},
   "outputs": [
    {
     "name": "stdout",
     "output_type": "stream",
     "text": [
      "path: c:\\Users\\jchoi\\Coding\\python\\board-for-ffbe-a9d6e94e060c.json\n",
      "<Spreadsheet '길드전 순위(9월)' id:1rSAyiMHyqeD-odGbJxF4TUlUZEMQp_so0Z6_2D6L6Hk>\n",
      "0  defender_name\n",
      "1           MOON\n",
      "2             SK\n",
      "3            깍두기\n",
      "4           귀뚜라미\n",
      "5          겨울나그네\n",
      "6             월광\n",
      "7          렁큰이형님\n",
      "8         티파 록하트\n",
      "9            Sun\n",
      "10          Hyoh\n",
      "11          가을하늘\n",
      "12          머라구여\n",
      "13            라텔\n",
      "14        낮술이최고야\n",
      "15         OscaR\n",
      "16          에키드나\n",
      "17         MUNAM\n",
      "18           백수룡\n",
      "19           마리나\n",
      "20       MSX4041\n",
      "21           호비잉\n",
      "22           개작두\n",
      "23          산들바람\n",
      "24           노가장\n",
      "25           튼튼맘\n",
      "26            귬찡\n",
      "27          까르낏깃\n",
      "28            연화\n",
      "29            짱맨\n",
      "30            투투\n"
     ]
    },
    {
     "data": {
      "text/html": [
       "<div>\n",
       "<style scoped>\n",
       "    .dataframe tbody tr th:only-of-type {\n",
       "        vertical-align: middle;\n",
       "    }\n",
       "\n",
       "    .dataframe tbody tr th {\n",
       "        vertical-align: top;\n",
       "    }\n",
       "\n",
       "    .dataframe thead th {\n",
       "        text-align: right;\n",
       "    }\n",
       "</style>\n",
       "<table border=\"1\" class=\"dataframe\">\n",
       "  <thead>\n",
       "    <tr style=\"text-align: right;\">\n",
       "      <th></th>\n",
       "      <th>defender_name</th>\n",
       "    </tr>\n",
       "  </thead>\n",
       "  <tbody>\n",
       "    <tr>\n",
       "      <th>1</th>\n",
       "      <td>MOON</td>\n",
       "    </tr>\n",
       "    <tr>\n",
       "      <th>2</th>\n",
       "      <td>SK</td>\n",
       "    </tr>\n",
       "    <tr>\n",
       "      <th>3</th>\n",
       "      <td>깍두기</td>\n",
       "    </tr>\n",
       "    <tr>\n",
       "      <th>4</th>\n",
       "      <td>귀뚜라미</td>\n",
       "    </tr>\n",
       "    <tr>\n",
       "      <th>5</th>\n",
       "      <td>겨울나그네</td>\n",
       "    </tr>\n",
       "    <tr>\n",
       "      <th>6</th>\n",
       "      <td>월광</td>\n",
       "    </tr>\n",
       "    <tr>\n",
       "      <th>7</th>\n",
       "      <td>렁큰이형님</td>\n",
       "    </tr>\n",
       "    <tr>\n",
       "      <th>8</th>\n",
       "      <td>티파 록하트</td>\n",
       "    </tr>\n",
       "    <tr>\n",
       "      <th>9</th>\n",
       "      <td>Sun</td>\n",
       "    </tr>\n",
       "    <tr>\n",
       "      <th>10</th>\n",
       "      <td>Hyoh</td>\n",
       "    </tr>\n",
       "    <tr>\n",
       "      <th>11</th>\n",
       "      <td>가을하늘</td>\n",
       "    </tr>\n",
       "    <tr>\n",
       "      <th>12</th>\n",
       "      <td>머라구여</td>\n",
       "    </tr>\n",
       "    <tr>\n",
       "      <th>13</th>\n",
       "      <td>라텔</td>\n",
       "    </tr>\n",
       "    <tr>\n",
       "      <th>14</th>\n",
       "      <td>낮술이최고야</td>\n",
       "    </tr>\n",
       "    <tr>\n",
       "      <th>15</th>\n",
       "      <td>OscaR</td>\n",
       "    </tr>\n",
       "    <tr>\n",
       "      <th>16</th>\n",
       "      <td>에키드나</td>\n",
       "    </tr>\n",
       "    <tr>\n",
       "      <th>17</th>\n",
       "      <td>MUNAM</td>\n",
       "    </tr>\n",
       "    <tr>\n",
       "      <th>18</th>\n",
       "      <td>백수룡</td>\n",
       "    </tr>\n",
       "    <tr>\n",
       "      <th>19</th>\n",
       "      <td>마리나</td>\n",
       "    </tr>\n",
       "    <tr>\n",
       "      <th>20</th>\n",
       "      <td>MSX4041</td>\n",
       "    </tr>\n",
       "    <tr>\n",
       "      <th>21</th>\n",
       "      <td>호비잉</td>\n",
       "    </tr>\n",
       "    <tr>\n",
       "      <th>22</th>\n",
       "      <td>개작두</td>\n",
       "    </tr>\n",
       "    <tr>\n",
       "      <th>23</th>\n",
       "      <td>산들바람</td>\n",
       "    </tr>\n",
       "    <tr>\n",
       "      <th>24</th>\n",
       "      <td>노가장</td>\n",
       "    </tr>\n",
       "    <tr>\n",
       "      <th>25</th>\n",
       "      <td>튼튼맘</td>\n",
       "    </tr>\n",
       "    <tr>\n",
       "      <th>26</th>\n",
       "      <td>귬찡</td>\n",
       "    </tr>\n",
       "    <tr>\n",
       "      <th>27</th>\n",
       "      <td>까르낏깃</td>\n",
       "    </tr>\n",
       "    <tr>\n",
       "      <th>28</th>\n",
       "      <td>연화</td>\n",
       "    </tr>\n",
       "    <tr>\n",
       "      <th>29</th>\n",
       "      <td>짱맨</td>\n",
       "    </tr>\n",
       "    <tr>\n",
       "      <th>30</th>\n",
       "      <td>투투</td>\n",
       "    </tr>\n",
       "  </tbody>\n",
       "</table>\n",
       "</div>"
      ],
      "text/plain": [
       "0  defender_name\n",
       "1           MOON\n",
       "2             SK\n",
       "3            깍두기\n",
       "4           귀뚜라미\n",
       "5          겨울나그네\n",
       "6             월광\n",
       "7          렁큰이형님\n",
       "8         티파 록하트\n",
       "9            Sun\n",
       "10          Hyoh\n",
       "11          가을하늘\n",
       "12          머라구여\n",
       "13            라텔\n",
       "14        낮술이최고야\n",
       "15         OscaR\n",
       "16          에키드나\n",
       "17         MUNAM\n",
       "18           백수룡\n",
       "19           마리나\n",
       "20       MSX4041\n",
       "21           호비잉\n",
       "22           개작두\n",
       "23          산들바람\n",
       "24           노가장\n",
       "25           튼튼맘\n",
       "26            귬찡\n",
       "27          까르낏깃\n",
       "28            연화\n",
       "29            짱맨\n",
       "30            투투"
      ]
     },
     "execution_count": 115,
     "metadata": {},
     "output_type": "execute_result"
    }
   ],
   "source": [
    "import board_manger\n",
    "importlib.reload(board_manger)\n",
    "bm = board_manger.BoardManager()\n",
    "defenders = bm.fetch_defenders()\n",
    "defenders"
   ]
  },
  {
   "cell_type": "code",
   "execution_count": 94,
   "metadata": {},
   "outputs": [
    {
     "data": {
      "text/plain": [
       "이름\n",
       "MOON       1\n",
       "SK         1\n",
       "깍두기        1\n",
       "귀뚜라미       1\n",
       "겨울나그네      1\n",
       "월광         2\n",
       "렁큰이형님      2\n",
       "티파 록하트     2\n",
       "Sun        2\n",
       "Hyoh       1\n",
       "가을하늘       1\n",
       "머라구여       2\n",
       "라텔         1\n",
       "낮술이최고야     1\n",
       "OscaR      1\n",
       "에키드나       1\n",
       "MUNAM      1\n",
       "백수룡        1\n",
       "마리나        1\n",
       "MSX4041    1\n",
       "호비잉        1\n",
       "개작두        1\n",
       "산들바람       1\n",
       "노가장        1\n",
       "튼튼맘        1\n",
       "귬찡         1\n",
       "까르낏깃       1\n",
       "연화         2\n",
       "짱맨         1\n",
       "투투         1\n",
       "Name: 2023-09-30, dtype: object"
      ]
     },
     "execution_count": 94,
     "metadata": {},
     "output_type": "execute_result"
    }
   ],
   "source": [
    "fm.score_df[datetime.date.today()]"
   ]
  },
  {
   "cell_type": "code",
   "execution_count": null,
   "metadata": {},
   "outputs": [],
   "source": [
    "from datetime import date\n",
    "from datetime import datetime\n",
    "import re\n",
    "def convert_to_date(date_str):\n",
    "    original_date = datetime.strptime(date_str, '%m월 %d일').date()\n",
    "    new_date = date(2023, original_date.month, original_date.day)\n",
    "    return new_date\n",
    "def fetch_score():\n",
    "    sheet_name = 'test'\n",
    "    res = gm.sheets[sheet_name].get_all_values()\n",
    "    res[1] = map(lambda x: x.strip() if type(x)==str else x, res[1])\n",
    "    date_p = re.compile('[월]+.*[일]+')\n",
    "    res[1] = map(lambda x: convert_to_date(x) if re.findall(date_p, x) else x, res[1])\n",
    "    res_df = pd.DataFrame(res[2:], columns=res[1])\n",
    "    res_df.set_index('이름', inplace=True)\n",
    "    return (res_df)\n",
    "score_df = fetch_score()\n",
    "score_df\n",
    "# score_df[str(date.today())]"
   ]
  },
  {
   "cell_type": "code",
   "execution_count": 59,
   "metadata": {},
   "outputs": [
    {
     "data": {
      "text/plain": [
       "datetime.date(2023, 8, 31)"
      ]
     },
     "execution_count": 59,
     "metadata": {},
     "output_type": "execute_result"
    }
   ],
   "source": [
    "from datetime import datetime\n",
    "original_date = datetime.strptime(score_df.columns[3], '%m월 %d일').date()\n",
    "new_date = date(2023, original_date.month, original_date.day)\n",
    "new_date"
   ]
  },
  {
   "cell_type": "code",
   "execution_count": 65,
   "metadata": {},
   "outputs": [
    {
     "name": "stdout",
     "output_type": "stream",
     "text": [
      "Found\n"
     ]
    }
   ],
   "source": [
    "import re\n",
    "date_p = re.compile('[월]+.*[일]+')\n",
    "test_str = \"9월일 21\"\n",
    "if (re.findall(date_p, test_str)):\n",
    "    print(\"Found\")\n",
    "    return True\n",
    "else: \n",
    "    return False\n",
    "    print(\"no\")\n"
   ]
  },
  {
   "cell_type": "code",
   "execution_count": 15,
   "metadata": {},
   "outputs": [
    {
     "ename": "NameError",
     "evalue": "name 'doc' is not defined",
     "output_type": "error",
     "traceback": [
      "\u001b[1;31m---------------------------------------------------------------------------\u001b[0m",
      "\u001b[1;31mNameError\u001b[0m                                 Traceback (most recent call last)",
      "\u001b[1;32mc:\\Users\\jchoi\\Coding\\python\\board_for_ffbe\\gsheet_test.ipynb 셀 4\u001b[0m line \u001b[0;36m3\n\u001b[0;32m      <a href='vscode-notebook-cell:/c%3A/Users/jchoi/Coding/python/board_for_ffbe/gsheet_test.ipynb#W2sZmlsZQ%3D%3D?line=0'>1</a>\u001b[0m \u001b[39mimport\u001b[39;00m \u001b[39mpandas\u001b[39;00m \u001b[39mas\u001b[39;00m \u001b[39mpd\u001b[39;00m\n\u001b[0;32m      <a href='vscode-notebook-cell:/c%3A/Users/jchoi/Coding/python/board_for_ffbe/gsheet_test.ipynb#W2sZmlsZQ%3D%3D?line=1'>2</a>\u001b[0m sheet_to_use \u001b[39m=\u001b[39m \u001b[39m'\u001b[39m\u001b[39mtest\u001b[39m\u001b[39m'\u001b[39m\n\u001b[1;32m----> <a href='vscode-notebook-cell:/c%3A/Users/jchoi/Coding/python/board_for_ffbe/gsheet_test.ipynb#W2sZmlsZQ%3D%3D?line=2'>3</a>\u001b[0m worksheet \u001b[39m=\u001b[39m doc\u001b[39m.\u001b[39mworksheet(sheet_to_use)\n\u001b[0;32m      <a href='vscode-notebook-cell:/c%3A/Users/jchoi/Coding/python/board_for_ffbe/gsheet_test.ipynb#W2sZmlsZQ%3D%3D?line=3'>4</a>\u001b[0m data \u001b[39m=\u001b[39m {\u001b[39m'\u001b[39m\u001b[39ma\u001b[39m\u001b[39m'\u001b[39m:[\u001b[39m1\u001b[39m,\u001b[39m2\u001b[39m,\u001b[39m3\u001b[39m],\u001b[39m'\u001b[39m\u001b[39mb\u001b[39m\u001b[39m'\u001b[39m:[\u001b[39m4\u001b[39m,\u001b[39m5\u001b[39m,\u001b[39m6\u001b[39m],\u001b[39m'\u001b[39m\u001b[39mc\u001b[39m\u001b[39m'\u001b[39m:[\u001b[39m7\u001b[39m,\u001b[39m8\u001b[39m,\u001b[39m9\u001b[39m]}\n\u001b[0;32m      <a href='vscode-notebook-cell:/c%3A/Users/jchoi/Coding/python/board_for_ffbe/gsheet_test.ipynb#W2sZmlsZQ%3D%3D?line=4'>5</a>\u001b[0m df \u001b[39m=\u001b[39m pd\u001b[39m.\u001b[39mDataFrame(data)\n",
      "\u001b[1;31mNameError\u001b[0m: name 'doc' is not defined"
     ]
    }
   ],
   "source": [
    "import pandas as pd\n",
    "sheet_to_use = 'test'\n",
    "worksheet = doc.worksheet(sheet_to_use)\n",
    "data = {'a':[1,2,3],'b':[4,5,6],'c':[7,8,9]}\n",
    "df = pd.DataFrame(data)\n",
    "values = [df.columns.tolist()] + df.values.tolist()\n",
    "worksheet.update('a1', values)"
   ]
  }
 ],
 "metadata": {
  "kernelspec": {
   "display_name": "py311",
   "language": "python",
   "name": "python3"
  },
  "language_info": {
   "codemirror_mode": {
    "name": "ipython",
    "version": 3
   },
   "file_extension": ".py",
   "mimetype": "text/x-python",
   "name": "python",
   "nbconvert_exporter": "python",
   "pygments_lexer": "ipython3",
   "version": "3.11.0"
  },
  "orig_nbformat": 4
 },
 "nbformat": 4,
 "nbformat_minor": 2
}
